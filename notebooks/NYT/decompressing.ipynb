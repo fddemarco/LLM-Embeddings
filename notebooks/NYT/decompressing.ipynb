{
 "cells": [
  {
   "cell_type": "code",
   "execution_count": 3,
   "id": "6ea0187d-1f25-44e9-8654-73fbf5dd12b5",
   "metadata": {},
   "outputs": [],
   "source": [
    "import pathlib\n",
    "import pandas as pd"
   ]
  },
  {
   "cell_type": "code",
   "execution_count": 8,
   "id": "84b01335-b138-4edd-a06b-c412e98ca92d",
   "metadata": {},
   "outputs": [],
   "source": [
    "BASE_PATH = pathlib.Path(\"/media/franco/Backup/NYT\")"
   ]
  },
  {
   "cell_type": "code",
   "execution_count": 9,
   "id": "758302f1-c9a7-438c-80d7-4070cb494a9a",
   "metadata": {},
   "outputs": [],
   "source": [
    "EXTRACT_PATH = BASE_PATH / \"extract\" "
   ]
  },
  {
   "cell_type": "code",
   "execution_count": 11,
   "id": "ddbceae2-ede3-4a85-981d-08c31add9893",
   "metadata": {},
   "outputs": [],
   "source": [
    "NYT_PATH = BASE_PATH / \"LDC2008T19\" / \"data\""
   ]
  },
  {
   "cell_type": "code",
   "execution_count": 6,
   "id": "97eb8023-cf98-4151-830b-8c7cba1667ed",
   "metadata": {},
   "outputs": [],
   "source": [
    "year = \"1987\""
   ]
  },
  {
   "cell_type": "code",
   "execution_count": null,
   "id": "91f7927d-3b52-4795-9ec5-b82234bddb47",
   "metadata": {},
   "outputs": [
    {
     "name": "stdout",
     "output_type": "stream",
     "text": [
      "/media/franco/Backup/NYT/LDC2008T19/data/1987/02.tgz\n",
      "/media/franco/Backup/NYT/LDC2008T19/data/1987/03.tgz\n",
      "/media/franco/Backup/NYT/LDC2008T19/data/1987/04.tgz\n",
      "/media/franco/Backup/NYT/LDC2008T19/data/1987/05.tgz\n",
      "/media/franco/Backup/NYT/LDC2008T19/data/1987/06.tgz\n",
      "/media/franco/Backup/NYT/LDC2008T19/data/1987/07.tgz\n",
      "/media/franco/Backup/NYT/LDC2008T19/data/1987/08.tgz\n",
      "/media/franco/Backup/NYT/LDC2008T19/data/1987/09.tgz\n",
      "/media/franco/Backup/NYT/LDC2008T19/data/1987/10.tgz\n",
      "/media/franco/Backup/NYT/LDC2008T19/data/1987/11.tgz\n",
      "/media/franco/Backup/NYT/LDC2008T19/data/1987/12.tgz\n"
     ]
    }
   ],
   "source": [
    "import tarfile\n",
    "import glob\n",
    "\n",
    "# Path to the .tgz file and the destination directory\n",
    "year_folder = NYT_PATH / year\n",
    "year_extract_path = EXTRACT_PATH / year\n",
    "\n",
    "for tgz_file in glob.glob(str(year_folder / \"*.tgz\")):\n",
    "    if not tgz_file.split(\"/\")[-1].startswith(\"01\"):\n",
    "        print(tgz_file)\n",
    "        with tarfile.open(tgz_file, 'r:gz') as tar:\n",
    "            tar.extractall(path=extract_path)\n",
    "        "
   ]
  },
  {
   "cell_type": "code",
   "execution_count": null,
   "id": "ed8aaa82-5162-412c-8d38-118856bc61ce",
   "metadata": {},
   "outputs": [],
   "source": [
    "\n"
   ]
  }
 ],
 "metadata": {
  "kernelspec": {
   "display_name": "Python 3 (ipykernel)",
   "language": "python",
   "name": "python3"
  },
  "language_info": {
   "codemirror_mode": {
    "name": "ipython",
    "version": 3
   },
   "file_extension": ".py",
   "mimetype": "text/x-python",
   "name": "python",
   "nbconvert_exporter": "python",
   "pygments_lexer": "ipython3",
   "version": "3.10.13"
  }
 },
 "nbformat": 4,
 "nbformat_minor": 5
}
