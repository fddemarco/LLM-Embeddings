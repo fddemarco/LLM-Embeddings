{
 "cells": [
  {
   "cell_type": "code",
   "execution_count": null,
   "id": "f16f25e7-ba76-41b9-a4c2-8e7be4759962",
   "metadata": {},
   "outputs": [],
   "source": [
    "import pandas as pd\n",
    "import polars as pl\n",
    "\n",
    "from llm_embeddings import settings\n",
    "from llm_embeddings.models import api_models\n",
    "from llm_embeddings.models import datasets"
   ]
  },
  {
   "cell_type": "code",
   "execution_count": null,
   "id": "7940484f-5165-41a0-a844-6c69e07a4199",
   "metadata": {},
   "outputs": [],
   "source": [
    "df = pd.read_parquet(\"prompts.parquet\").reset_index()"
   ]
  },
  {
   "cell_type": "code",
   "execution_count": null,
   "id": "e22252a2-eaf0-443f-bf05-4bd907aeb6ac",
   "metadata": {},
   "outputs": [],
   "source": [
    "df = pl.from_pandas(df)"
   ]
  },
  {
   "cell_type": "code",
   "execution_count": null,
   "id": "88e571b8-8b21-468a-af53-e1e0c0c94001",
   "metadata": {},
   "outputs": [],
   "source": [
    "df = df.filter(pl.col(\"index\") == 11)"
   ]
  },
  {
   "cell_type": "code",
   "execution_count": null,
   "id": "b7bbb7e4-fd7f-43f4-9952-45d4860f7d81",
   "metadata": {},
   "outputs": [],
   "source": [
    "schema = datasets.Schema(\"prompt\", \"index\")\n",
    "dataset = datasets.Dataset(df, schema)"
   ]
  },
  {
   "cell_type": "code",
   "execution_count": null,
   "id": "b2eedbbc-7dda-4f2c-9894-87184e408087",
   "metadata": {},
   "outputs": [],
   "source": [
    "api_key = settings.get_config(settings.VOYAGEAI_API_KEY)\n",
    "model = api_models.VoyageAiModel(api_key)"
   ]
  },
  {
   "cell_type": "code",
   "execution_count": null,
   "id": "1a08556b-ecbb-4828-b194-b4292b08912d",
   "metadata": {},
   "outputs": [],
   "source": [
    "embeddings = dataset.embed_text(model)"
   ]
  }
 ],
 "metadata": {
  "kernelspec": {
   "display_name": "Python 3 (ipykernel)",
   "language": "python",
   "name": "python3"
  },
  "language_info": {
   "codemirror_mode": {
    "name": "ipython",
    "version": 3
   },
   "file_extension": ".py",
   "mimetype": "text/x-python",
   "name": "python",
   "nbconvert_exporter": "python",
   "pygments_lexer": "ipython3",
   "version": "3.10.13"
  }
 },
 "nbformat": 4,
 "nbformat_minor": 5
}
