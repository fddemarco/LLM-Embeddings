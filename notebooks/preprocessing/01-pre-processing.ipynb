{
 "cells": [
  {
   "cell_type": "code",
   "execution_count": 1,
   "id": "e55e3b14-58fa-4c28-b818-eee2a4f0f7f8",
   "metadata": {},
   "outputs": [],
   "source": [
    "import polars as pl"
   ]
  },
  {
   "cell_type": "markdown",
   "id": "73dde008-1d61-4d8a-ad05-f0bd5cf2163b",
   "metadata": {},
   "source": [
    "## Speeches"
   ]
  },
  {
   "cell_type": "code",
   "execution_count": 2,
   "id": "83067fa8-c6e5-49d0-b4ef-ba350729be7a",
   "metadata": {},
   "outputs": [],
   "source": [
    "presidents = pl.read_csv(\"datasets/presidents.csv\", columns=[\"President Name\", \"Party\"]).rename({\"President Name\": \"President\"})"
   ]
  },
  {
   "cell_type": "code",
   "execution_count": 3,
   "id": "3c0844b2-47b4-4052-ac9a-8b145f381bcd",
   "metadata": {},
   "outputs": [],
   "source": [
    "speeches = (\n",
    "    pl\n",
    "    .read_parquet(\"datasets/speeches_sotu.parquet\")\n",
    "    .rename({\"Transcript\": \"Text\"})\n",
    "    .with_columns(\n",
    "        pl.col(\"Date\").str.to_date()\n",
    "    )\n",
    "    .with_columns(\n",
    "        pl.col(\"Date\").dt.year().alias(\"Year\")\n",
    "    )\n",
    ")"
   ]
  },
  {
   "cell_type": "code",
   "execution_count": 11,
   "id": "9552f2a6-5d87-4628-bcb7-7dd24a044011",
   "metadata": {},
   "outputs": [
    {
     "data": {
      "text/html": [
       "<div><style>\n",
       ".dataframe > thead > tr,\n",
       ".dataframe > tbody > tr {\n",
       "  text-align: right;\n",
       "  white-space: pre-wrap;\n",
       "}\n",
       "</style>\n",
       "<small>shape: (2, 2)</small><table border=\"1\" class=\"dataframe\"><thead><tr><th>Party</th><th>count</th></tr><tr><td>str</td><td>u32</td></tr></thead><tbody><tr><td>&quot;Republican&quot;</td><td>13</td></tr><tr><td>&quot;Democratic&quot;</td><td>14</td></tr></tbody></table></div>"
      ],
      "text/plain": [
       "shape: (2, 2)\n",
       "┌────────────┬───────┐\n",
       "│ Party      ┆ count │\n",
       "│ ---        ┆ ---   │\n",
       "│ str        ┆ u32   │\n",
       "╞════════════╪═══════╡\n",
       "│ Republican ┆ 13    │\n",
       "│ Democratic ┆ 14    │\n",
       "└────────────┴───────┘"
      ]
     },
     "execution_count": 11,
     "metadata": {},
     "output_type": "execute_result"
    }
   ],
   "source": [
    "presidents.join(speeches, on=\"President\").group_by(\"Party\").count()"
   ]
  },
  {
   "cell_type": "code",
   "execution_count": 9,
   "id": "6684455b-6c40-4bf3-a647-385e3117f1ed",
   "metadata": {},
   "outputs": [
    {
     "data": {
      "text/html": [
       "<div><style>\n",
       ".dataframe > thead > tr,\n",
       ".dataframe > tbody > tr {\n",
       "  text-align: right;\n",
       "  white-space: pre-wrap;\n",
       "}\n",
       "</style>\n",
       "<small>shape: (27, 4)</small><table border=\"1\" class=\"dataframe\"><thead><tr><th>Date</th><th>President</th><th>Text</th><th>Year</th></tr><tr><td>date</td><td>str</td><td>str</td><td>i32</td></tr></thead><tbody><tr><td>1988-01-25</td><td>&quot;Ronald Reagan&quot;</td><td>&quot;Mr. Speaker, M…</td><td>1988</td></tr><tr><td>1990-01-31</td><td>&quot;George H. W. B…</td><td>&quot;Mr. President,…</td><td>1990</td></tr><tr><td>1991-01-29</td><td>&quot;George H. W. B…</td><td>&quot;Mr. President …</td><td>1991</td></tr><tr><td>1992-01-28</td><td>&quot;George H. W. B…</td><td>&quot;Mr. Speaker an…</td><td>1992</td></tr><tr><td>1994-01-25</td><td>&quot;Bill Clinton&quot;</td><td>&quot;Thank you very…</td><td>1994</td></tr><tr><td>1995-01-24</td><td>&quot;Bill Clinton&quot;</td><td>&quot;Mr. President,…</td><td>1995</td></tr><tr><td>1996-01-23</td><td>&quot;Bill Clinton&quot;</td><td>&quot;Mr. Speaker, M…</td><td>1996</td></tr><tr><td>1997-02-04</td><td>&quot;Bill Clinton&quot;</td><td>&quot;Mr. Speaker, M…</td><td>1997</td></tr><tr><td>1998-01-27</td><td>&quot;Bill Clinton&quot;</td><td>&quot;Mr. Speaker, M…</td><td>1998</td></tr><tr><td>1999-01-19</td><td>&quot;Bill Clinton&quot;</td><td>&quot;Mr. Speaker, M…</td><td>1999</td></tr><tr><td>2000-01-27</td><td>&quot;Bill Clinton&quot;</td><td>&quot;Mr. Speaker, M…</td><td>2000</td></tr><tr><td>2002-01-29</td><td>&quot;George W. Bush…</td><td>&quot;Thank you very…</td><td>2002</td></tr><tr><td>&hellip;</td><td>&hellip;</td><td>&hellip;</td><td>&hellip;</td></tr><tr><td>2006-01-31</td><td>&quot;George W. Bush…</td><td>&quot;Thank you all.…</td><td>2006</td></tr><tr><td>2007-01-23</td><td>&quot;George W. Bush…</td><td>&quot;Thank you very…</td><td>2007</td></tr><tr><td>2008-01-28</td><td>&quot;George W. Bush…</td><td>&quot;Madam Speaker,…</td><td>2008</td></tr><tr><td>2010-01-27</td><td>&quot;Barack Obama&quot;</td><td>&quot;Madam Speaker,…</td><td>2010</td></tr><tr><td>2011-01-25</td><td>&quot;Barack Obama&quot;</td><td>&quot;Mr. Speaker, M…</td><td>2011</td></tr><tr><td>2012-01-24</td><td>&quot;Barack Obama&quot;</td><td>&quot;Mr. Speaker, M…</td><td>2012</td></tr><tr><td>2013-02-13</td><td>&quot;Barack Obama&quot;</td><td>&quot;Mr. Speaker, M…</td><td>2013</td></tr><tr><td>2014-01-28</td><td>&quot;Barack Obama&quot;</td><td>&quot;Mr. Speaker, M…</td><td>2014</td></tr><tr><td>2015-01-20</td><td>&quot;Barack Obama&quot;</td><td>&quot;Mr. Speaker, M…</td><td>2015</td></tr><tr><td>2016-01-12</td><td>&quot;Barack Obama&quot;</td><td>&quot;Mr. Speaker, M…</td><td>2016</td></tr><tr><td>2018-01-30</td><td>&quot;Donald Trump&quot;</td><td>&quot;Mr. Speaker, M…</td><td>2018</td></tr><tr><td>2019-02-05</td><td>&quot;Donald Trump&quot;</td><td>&quot;Madam Speaker,…</td><td>2019</td></tr></tbody></table></div>"
      ],
      "text/plain": [
       "shape: (27, 4)\n",
       "┌────────────┬───────────────────┬───────────────────────────────────┬──────┐\n",
       "│ Date       ┆ President         ┆ Text                              ┆ Year │\n",
       "│ ---        ┆ ---               ┆ ---                               ┆ ---  │\n",
       "│ date       ┆ str               ┆ str                               ┆ i32  │\n",
       "╞════════════╪═══════════════════╪═══════════════════════════════════╪══════╡\n",
       "│ 1988-01-25 ┆ Ronald Reagan     ┆ Mr. Speaker, Mr. President, and … ┆ 1988 │\n",
       "│ 1990-01-31 ┆ George H. W. Bush ┆ Mr. President, Mr. Speaker, memb… ┆ 1990 │\n",
       "│ 1991-01-29 ┆ George H. W. Bush ┆ Mr. President and Mr. Speaker an… ┆ 1991 │\n",
       "│ 1992-01-28 ┆ George H. W. Bush ┆ Mr. Speaker and Mr. President, d… ┆ 1992 │\n",
       "│ …          ┆ …                 ┆ …                                 ┆ …    │\n",
       "│ 2015-01-20 ┆ Barack Obama      ┆ Mr. Speaker, Mr. Vice President,… ┆ 2015 │\n",
       "│ 2016-01-12 ┆ Barack Obama      ┆ Mr. Speaker, Mr. Vice President,… ┆ 2016 │\n",
       "│ 2018-01-30 ┆ Donald Trump      ┆ Mr. Speaker, Mr. Vice President,… ┆ 2018 │\n",
       "│ 2019-02-05 ┆ Donald Trump      ┆ Madam Speaker, Mr. Vice Presiden… ┆ 2019 │\n",
       "└────────────┴───────────────────┴───────────────────────────────────┴──────┘"
      ]
     },
     "execution_count": 9,
     "metadata": {},
     "output_type": "execute_result"
    }
   ],
   "source": [
    "speeches"
   ]
  }
 ],
 "metadata": {
  "kernelspec": {
   "display_name": "Python 3 (ipykernel)",
   "language": "python",
   "name": "python3"
  },
  "language_info": {
   "codemirror_mode": {
    "name": "ipython",
    "version": 3
   },
   "file_extension": ".py",
   "mimetype": "text/x-python",
   "name": "python",
   "nbconvert_exporter": "python",
   "pygments_lexer": "ipython3",
   "version": "3.10.13"
  }
 },
 "nbformat": 4,
 "nbformat_minor": 5
}
