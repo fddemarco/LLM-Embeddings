{
 "cells": [
  {
   "cell_type": "markdown",
   "id": "b9b6a9bc-db20-4160-b64a-8116ff0d7cf6",
   "metadata": {},
   "source": [
    "### Prompts"
   ]
  },
  {
   "cell_type": "code",
   "execution_count": 1,
   "id": "e10fb6fa-717b-464e-b41b-8e366679f96b",
   "metadata": {},
   "outputs": [],
   "source": [
    "import polars as pl\n",
    "from llm_embeddings.prompts import parser"
   ]
  },
  {
   "cell_type": "code",
   "execution_count": 2,
   "id": "3f8b8cf6-ee93-4ba8-ba09-8c0c1880d2a6",
   "metadata": {},
   "outputs": [],
   "source": [
    "templates = pl.read_csv(\"../prompt-templates.csv\")"
   ]
  },
  {
   "cell_type": "code",
   "execution_count": 3,
   "id": "978cf447-c4bb-4a23-a22e-7fa6b6d52871",
   "metadata": {},
   "outputs": [],
   "source": [
    "speeches = pl.read_parquet(\"datasets/speeches_with_presidents.parquet\", columns=[\"President\", \"Party\", \"Year\"])"
   ]
  },
  {
   "cell_type": "code",
   "execution_count": 4,
   "id": "be41cf3d-b0f7-4fb7-b007-538cce35fceb",
   "metadata": {},
   "outputs": [],
   "source": [
    "dataset = speeches.join(templates, how=\"cross\")"
   ]
  },
  {
   "cell_type": "code",
   "execution_count": 6,
   "id": "9275e63b-dead-4f6c-98b2-26aa1b83e43e",
   "metadata": {},
   "outputs": [],
   "source": [
    "(\n",
    "    parser\n",
    "    .TemplateParser(\n",
    "        \"Year\",\n",
    "        \"President\",\n",
    "        \"Party\",\n",
    "        \"prompt_template\"\n",
    "    ).parse(dataset)\n",
    ").write_parquet(\"prompts.parquet\")"
   ]
  }
 ],
 "metadata": {
  "kernelspec": {
   "display_name": "Python 3 (ipykernel)",
   "language": "python",
   "name": "python3"
  },
  "language_info": {
   "codemirror_mode": {
    "name": "ipython",
    "version": 3
   },
   "file_extension": ".py",
   "mimetype": "text/x-python",
   "name": "python",
   "nbconvert_exporter": "python",
   "pygments_lexer": "ipython3",
   "version": "3.10.13"
  }
 },
 "nbformat": 4,
 "nbformat_minor": 5
}
